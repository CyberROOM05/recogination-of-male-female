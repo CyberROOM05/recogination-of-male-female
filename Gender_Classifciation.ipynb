{
 "cells": [
  {
   "cell_type": "code",
   "execution_count": 1,
   "metadata": {},
   "outputs": [
    {
     "name": "stdout",
     "output_type": "stream",
     "text": [
      "{'Female': 0, 'Male': 1}\n",
      "['Female', 'Male']\n",
      "[0, 1]\n"
     ]
    }
   ],
   "source": [
    "import cv2\n",
    "import os\n",
    "\n",
    "data_path='Datasets'\n",
    "categories=os.listdir(data_path)\n",
    "labels=[i for i in range(len(categories))]\n",
    "\n",
    "label_dict=dict(zip(categories,labels))\n",
    "\n",
    "print(label_dict)\n",
    "print(categories)\n",
    "print(labels)"
   ]
  },
  {
   "cell_type": "code",
   "execution_count": 2,
   "metadata": {},
   "outputs": [],
   "source": [
    "img_size=32\n",
    "data=[]\n",
    "target=[]\n",
    "\n",
    "facedata = \"haarcascade_frontalface_default.xml\"\n",
    "cascade = cv2.CascadeClassifier(facedata)\n",
    "\n",
    "\n",
    "for category in categories:\n",
    "    folder_path=os.path.join(data_path,category)\n",
    "    img_names=os.listdir(folder_path)\n",
    "        \n",
    "    for img_name in img_names:\n",
    "        img_path=os.path.join(folder_path,img_name)\n",
    "        img=cv2.imread(img_path)\n",
    "        faces = cascade.detectMultiScale(img)\n",
    "        try:\n",
    "            for f in faces:\n",
    "                x, y, w, h = [v for v in f]\n",
    "                sub_face = img[y:y + h, x:x + w]\n",
    "                gray=cv2.cvtColor(sub_face,cv2.COLOR_BGR2GRAY)           \n",
    "                resized=cv2.resize(gray,(img_size,img_size))\n",
    "                data.append(resized)\n",
    "                target.append(label_dict[category])\n",
    "        except Exception as e:\n",
    "            print('Exception:',e)"
   ]
  },
  {
   "cell_type": "code",
   "execution_count": 3,
   "metadata": {},
   "outputs": [
    {
     "name": "stderr",
     "output_type": "stream",
     "text": [
      "Using TensorFlow backend.\n"
     ]
    }
   ],
   "source": [
    "import numpy as np\n",
    "import warnings\n",
    "warnings.filterwarnings('ignore')\n",
    "data=np.array(data)/255.0\n",
    "data=np.reshape(data,(data.shape[0],img_size,img_size,1))\n",
    "target=np.array(target)\n",
    "\n",
    "from keras.utils import np_utils\n",
    "\n",
    "new_target=np_utils.to_categorical(target)\n",
    "\n",
    "np.save('./training/data',data)\n",
    "np.save('./training/target',new_target)"
   ]
  },
  {
   "cell_type": "code",
   "execution_count": 4,
   "metadata": {},
   "outputs": [],
   "source": [
    "import numpy as np\n",
    "\n",
    "data=np.load('./training/data.npy')\n",
    "target=np.load('./training/target.npy')\n"
   ]
  },
  {
   "cell_type": "code",
   "execution_count": 5,
   "metadata": {},
   "outputs": [
    {
     "name": "stdout",
     "output_type": "stream",
     "text": [
      "WARNING:tensorflow:From C:\\ProgramData\\Anaconda3\\lib\\site-packages\\keras\\backend\\tensorflow_backend.py:4070: The name tf.nn.max_pool is deprecated. Please use tf.nn.max_pool2d instead.\n",
      "\n"
     ]
    }
   ],
   "source": [
    "from keras.models import Sequential\n",
    "from keras.layers import Dense,Activation,Flatten,Dropout\n",
    "from keras.layers import Conv2D,MaxPooling2D\n",
    "from keras.callbacks import ModelCheckpoint\n",
    "\n",
    "\n",
    "noOfFilters=64\n",
    "sizeOfFilter1=(3,3)\n",
    "sizeOfFilter2=(3,3)\n",
    "sizeOfPool=(2,2)\n",
    "noOfNode=64\n",
    "\n",
    "\n",
    "\n",
    "model=Sequential()\n",
    "model.add((Conv2D(32, sizeOfFilter1, input_shape=data.shape[1:],activation='relu')))\n",
    "model.add((Conv2D(32, sizeOfFilter1,activation='relu')))\n",
    "model.add(MaxPooling2D(pool_size=sizeOfPool))\n",
    "\n",
    "model.add((Conv2D(64, sizeOfFilter2,activation='relu')))\n",
    "model.add((Conv2D(64, sizeOfFilter2,activation='relu')))\n",
    "model.add(MaxPooling2D(pool_size=sizeOfPool))\n",
    "model.add(Dropout(0.5))\n",
    "\n",
    "\n",
    "model.add(Flatten())\n",
    "model.add(Dense(noOfNode, activation='relu'))\n",
    "model.add(Dropout(0.5))\n",
    "model.add(Dense(2, activation='softmax'))\n",
    "\n",
    "\n",
    "model.compile(loss='categorical_crossentropy',optimizer='adam',metrics=['accuracy'])"
   ]
  },
  {
   "cell_type": "code",
   "execution_count": 6,
   "metadata": {},
   "outputs": [],
   "source": [
    "from sklearn.model_selection import train_test_split\n",
    "\n",
    "train_data,test_data,train_target,test_target=train_test_split(data,target,test_size=0.1)"
   ]
  },
  {
   "cell_type": "code",
   "execution_count": 7,
   "metadata": {},
   "outputs": [
    {
     "name": "stdout",
     "output_type": "stream",
     "text": [
      "WARNING:tensorflow:From C:\\ProgramData\\Anaconda3\\lib\\site-packages\\keras\\backend\\tensorflow_backend.py:422: The name tf.global_variables is deprecated. Please use tf.compat.v1.global_variables instead.\n",
      "\n",
      "Train on 728 samples, validate on 183 samples\n",
      "Epoch 1/20\n",
      "728/728 [==============================] - 3s 4ms/step - loss: 0.6812 - accuracy: 0.5975 - val_loss: 0.6902 - val_accuracy: 0.5519\n",
      "Epoch 2/20\n",
      "728/728 [==============================] - 2s 3ms/step - loss: 0.6715 - accuracy: 0.6016 - val_loss: 0.6859 - val_accuracy: 0.5519\n",
      "Epoch 3/20\n",
      "728/728 [==============================] - 2s 3ms/step - loss: 0.6729 - accuracy: 0.6016 - val_loss: 0.6822 - val_accuracy: 0.5519\n",
      "Epoch 4/20\n",
      "728/728 [==============================] - 3s 4ms/step - loss: 0.6738 - accuracy: 0.5989 - val_loss: 0.6722 - val_accuracy: 0.5519\n",
      "Epoch 5/20\n",
      "728/728 [==============================] - 3s 3ms/step - loss: 0.6610 - accuracy: 0.6030 - val_loss: 0.6677 - val_accuracy: 0.5519\n",
      "Epoch 6/20\n",
      "728/728 [==============================] - 2s 3ms/step - loss: 0.6326 - accuracy: 0.6415 - val_loss: 0.5970 - val_accuracy: 0.7268\n",
      "Epoch 7/20\n",
      "728/728 [==============================] - 2s 3ms/step - loss: 0.6034 - accuracy: 0.6566 - val_loss: 0.5803 - val_accuracy: 0.6284\n",
      "Epoch 8/20\n",
      "728/728 [==============================] - 3s 3ms/step - loss: 0.5367 - accuracy: 0.7239 - val_loss: 0.4853 - val_accuracy: 0.7705\n",
      "Epoch 9/20\n",
      "728/728 [==============================] - 2s 3ms/step - loss: 0.4922 - accuracy: 0.7514 - val_loss: 0.4288 - val_accuracy: 0.8142\n",
      "Epoch 10/20\n",
      "728/728 [==============================] - 3s 3ms/step - loss: 0.4425 - accuracy: 0.7912 - val_loss: 0.4011 - val_accuracy: 0.8251\n",
      "Epoch 11/20\n",
      "728/728 [==============================] - 3s 3ms/step - loss: 0.4097 - accuracy: 0.8214 - val_loss: 0.3937 - val_accuracy: 0.8361\n",
      "Epoch 12/20\n",
      "728/728 [==============================] - 3s 3ms/step - loss: 0.4041 - accuracy: 0.8297 - val_loss: 0.4162 - val_accuracy: 0.8361\n",
      "Epoch 13/20\n",
      "728/728 [==============================] - 2s 3ms/step - loss: 0.3652 - accuracy: 0.8489 - val_loss: 0.3842 - val_accuracy: 0.8361\n",
      "Epoch 14/20\n",
      "728/728 [==============================] - 2s 3ms/step - loss: 0.3540 - accuracy: 0.8723 - val_loss: 0.3662 - val_accuracy: 0.8743\n",
      "Epoch 15/20\n",
      "728/728 [==============================] - 3s 3ms/step - loss: 0.3137 - accuracy: 0.8709 - val_loss: 0.4091 - val_accuracy: 0.8306\n",
      "Epoch 16/20\n",
      "728/728 [==============================] - 2s 3ms/step - loss: 0.2919 - accuracy: 0.8915 - val_loss: 0.3628 - val_accuracy: 0.8525\n",
      "Epoch 17/20\n",
      "728/728 [==============================] - 2s 3ms/step - loss: 0.2580 - accuracy: 0.8942 - val_loss: 0.4265 - val_accuracy: 0.8306\n",
      "Epoch 18/20\n",
      "728/728 [==============================] - 2s 3ms/step - loss: 0.2626 - accuracy: 0.8929 - val_loss: 0.4305 - val_accuracy: 0.8415\n",
      "Epoch 19/20\n",
      "728/728 [==============================] - 3s 3ms/step - loss: 0.2354 - accuracy: 0.9066 - val_loss: 0.3822 - val_accuracy: 0.8579\n",
      "Epoch 20/20\n",
      "728/728 [==============================] - 3s 3ms/step - loss: 0.2156 - accuracy: 0.9176 - val_loss: 0.4037 - val_accuracy: 0.8470\n"
     ]
    }
   ],
   "source": [
    "checkpoint = ModelCheckpoint('./training/model-{epoch:03d}.model',monitor='val_loss',verbose=0,save_best_only=True,mode='auto')\n",
    "history=model.fit(train_data,train_target,epochs=20,callbacks=[checkpoint],validation_split=0.2)"
   ]
  },
  {
   "cell_type": "code",
   "execution_count": 8,
   "metadata": {},
   "outputs": [],
   "source": [
    "from keras.models import load_model\n",
    "import cv2\n",
    "import numpy as np"
   ]
  },
  {
   "cell_type": "code",
   "execution_count": 9,
   "metadata": {},
   "outputs": [],
   "source": [
    "model = load_model('./training/model-007.model')\n",
    "\n",
    "face_clsfr=cv2.CascadeClassifier('haarcascade_frontalface_default.xml')\n",
    "\n",
    "cap=cv2.VideoCapture(0)\n",
    "\n",
    "labels_dict={0:'Female',1:'Male'}\n",
    "color_dict={0:(0,0,255),1:(0,255,0)}"
   ]
  },
  {
   "cell_type": "code",
   "execution_count": null,
   "metadata": {},
   "outputs": [],
   "source": [
    "while(True):\n",
    "\n",
    "    ret,img=cap.read()\n",
    "    gray=cv2.cvtColor(img,cv2.COLOR_BGR2GRAY)\n",
    "    faces=face_clsfr.detectMultiScale(gray,1.3,3)  \n",
    "\n",
    "    for (x,y,w,h) in faces:\n",
    "    \n",
    "        face_img=gray[y:y+w,x:x+w]\n",
    "        resized=cv2.resize(face_img,(32,32))\n",
    "        normalized=resized/255.0\n",
    "        reshaped=np.reshape(normalized,(1,32,32,1))\n",
    "        result=model.predict(reshaped)\n",
    "\n",
    "        label=np.argmax(result,axis=1)[0]\n",
    "      \n",
    "        cv2.rectangle(img,(x,y),(x+w,y+h),color_dict[label],2)\n",
    "        cv2.rectangle(img,(x,y-40),(x+w,y),color_dict[label],-1)\n",
    "        cv2.putText(img, labels_dict[label], (x, y-10),cv2.FONT_HERSHEY_SIMPLEX,0.8,(255,255,255),2)\n",
    "        \n",
    "        \n",
    "    cv2.imshow('Result',img)\n",
    "    k=cv2.waitKey(1)\n",
    "    \n",
    "    if k==ord(\"q\"):\n",
    "        break\n",
    "        \n",
    "cv2.destroyAllWindows()\n",
    "cap.release()"
   ]
  },
  {
   "cell_type": "code",
   "execution_count": null,
   "metadata": {},
   "outputs": [],
   "source": []
  }
 ],
 "metadata": {
  "kernelspec": {
   "display_name": "Python 3",
   "language": "python",
   "name": "python3"
  },
  "language_info": {
   "codemirror_mode": {
    "name": "ipython",
    "version": 3
   },
   "file_extension": ".py",
   "mimetype": "text/x-python",
   "name": "python",
   "nbconvert_exporter": "python",
   "pygments_lexer": "ipython3",
   "version": "3.7.6"
  }
 },
 "nbformat": 4,
 "nbformat_minor": 4
}
